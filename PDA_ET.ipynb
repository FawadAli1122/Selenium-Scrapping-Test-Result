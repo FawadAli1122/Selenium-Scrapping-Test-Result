{
  "nbformat": 4,
  "nbformat_minor": 0,
  "metadata": {
    "colab": {
      "name": "PDA ET.ipynb",
      "provenance": [],
      "collapsed_sections": [],
      "authorship_tag": "ABX9TyPVctjFDupfTGtVBosaKNwY",
      "include_colab_link": true
    },
    "kernelspec": {
      "name": "python3",
      "display_name": "Python 3"
    },
    "language_info": {
      "name": "python"
    }
  },
  "cells": [
    {
      "cell_type": "markdown",
      "metadata": {
        "id": "view-in-github",
        "colab_type": "text"
      },
      "source": [
        "<a href=\"https://colab.research.google.com/github/FawadAli1122/Selenium-Scrapping-Test-Result/blob/main/PDA_ET.ipynb\" target=\"_parent\"><img src=\"https://colab.research.google.com/assets/colab-badge.svg\" alt=\"Open In Colab\"/></a>"
      ]
    },
    {
      "cell_type": "code",
      "execution_count": null,
      "metadata": {
        "id": "yX8jgC9OAu3T"
      },
      "outputs": [],
      "source": [
        "#Install Necessary Package\n",
        "!pip install selenium\n",
        "!apt-get update \n",
        "!apt install chromium-chromedriver"
      ]
    },
    {
      "cell_type": "code",
      "source": [
        "# import required libraries\n",
        "from selenium import webdriver\n",
        "from selenium.webdriver.common.keys import Keys\n",
        "from selenium.webdriver.support.ui import Select\n",
        "from selenium.common.exceptions import NoSuchElementException\n",
        "import csv \n",
        "import time"
      ],
      "metadata": {
        "id": "IDMtLRRXA2rY"
      },
      "execution_count": null,
      "outputs": []
    },
    {
      "cell_type": "code",
      "source": [
        "# give name of csv file\n",
        "filename = \"result.csv\"\n",
        "\n",
        "# open file in write mode\n",
        "f = open(filename, 'w')\n",
        "\n",
        "# create header\n",
        "header = \"name,status\\n\"\n",
        "  \n",
        "# write into the file\n",
        "f.write(header)\n",
        "\n",
        "# put rollnumber without zero like\n",
        "# your number 0477593 then\n",
        "# put 477593 upto XXXXX.\n",
        "start_roll_no = 600\n",
        "end_roll_no = 766\n",
        "\n",
        "#Options for Chrome driver\n",
        "options = webdriver.ChromeOptions()\n",
        "options.add_argument('--headless')\n",
        "options.add_argument('--no-sandbox')\n",
        "options.add_argument('--disable-dev-shm-usage')\n",
        "\n",
        "from selenium.webdriver.common.by import By\n",
        "\n",
        "\n",
        "for i in range(start_roll_no, end_roll_no + 1):\n",
        "      \n",
        "    # exception handling\n",
        "    try:\n",
        "        # create instance of Chrome webdriver\n",
        "        driver = webdriver.Chrome('chromedriver',options=options)\n",
        "\n",
        "        # paste the link upboard website\n",
        "        driver.get(\"https://etea.edu.pk/result\")\n",
        "        time.sleep(2)\n",
        "\n",
        "        # paste the xpath of Result screen \n",
        "        driver.find_element(By.XPATH,'/html/body/div[3]/div[1]/div/div[2]/ul/li[3]/a/ma').click()\n",
        "        #time.sleep(2)\n",
        "        # roll number start with zero then change into string\n",
        "        t= str(i)\n",
        "        time.sleep(2)\n",
        "        # find the element where we have to\n",
        "        # enter the xpath target rollnumber box \n",
        "        # and put rollnumber value who store in t. \n",
        "        driver.find_element(By.XPATH,\"/html/body/div[5]/div/div/div[2]/div/form/div/div[1]/input\").send_keys(t)\n",
        "        time.sleep(2)\n",
        "\n",
        "        # paste the xpath of submit button \n",
        "        driver.find_element(By.XPATH,\"/html/body/div[5]/div/div/div[2]/div/form/div/div[2]/button\").click()\n",
        "        time.sleep(2)\n",
        "        # name of student's x_path copy and get text of element\n",
        "        name=driver.find_element(By.XPATH,'/html/body/div[5]/div/div/div[2]/div/div[4]/table/tbody/tr[2]/td').text\n",
        "        time.sleep(2)\n",
        "        # result of student's x_path copy and get text of element\n",
        "        status=driver.find_element(By.XPATH,'/html/body/div[5]/div/div/div[2]/div/div[4]/table/tbody/tr[6]/td').text\n",
        "        time.sleep(2)\n",
        "        # write in the file\n",
        "        f.write(name + \",\" + status + \"\\n\")\n",
        "        time.sleep(2)\n",
        "        # close the web driver\n",
        "        driver.close()\n",
        "          \n",
        "    # using exception when rollnumber is wrong and\n",
        "    # not show result on this roll number\n",
        "    except NoSuchElementException as exception:\n",
        "        continue\n",
        "  \n",
        "# close and save the file\n",
        "f.close()"
      ],
      "metadata": {
        "id": "ugzsIFN8BAzO"
      },
      "execution_count": null,
      "outputs": []
    },
    {
      "cell_type": "code",
      "source": [
        "with open('result.csv') as file:\n",
        "    content = file.readlines()\n",
        "header = content[:1]\n",
        "rows = content[1:]\n",
        "print(header)\n",
        "print(rows)"
      ],
      "metadata": {
        "colab": {
          "base_uri": "https://localhost:8080/"
        },
        "id": "sbhXbIEaG8dL",
        "outputId": "9098f959-9f44-46c9-b0d9-94866ad16603"
      },
      "execution_count": null,
      "outputs": [
        {
          "output_type": "stream",
          "name": "stdout",
          "text": [
            "['name,status\\n']\n",
            "['WAQAR ALI SHAH,73\\n', 'NAVEED AHMAD,ABSENT\\n', 'QASIM DAD,ABSENT\\n', 'JAMSHAID RASHEED,ABSENT\\n', 'MUHAMMAD IBRAHIM,70\\n', 'MUHAMMAD TAIMOOR JADOON,ABSENT\\n', 'WAHEED ALAM,38\\n', 'HAMZA KHAN,ABSENT\\n', 'JAMAL NASAR,52\\n', 'MUHAMMAD HARIS,58\\n', 'UMAR SHAHZAD,77\\n', 'FARHANULLAH,44\\n', 'NAUMAN KHAN,ABSENT\\n', 'MUSHTAQ AHMAD,76\\n', 'ARIF AYAZ,ABSENT\\n', 'MUHAMMAD NOUMAN,59\\n', 'BILAL ZAMAN,ABSENT\\n', 'AZEEM ULLAH,55\\n', 'MUHAMMAD SHAHZAD FARID KHATTAK,53\\n', 'ARBAZ KHAN,ABSENT\\n', 'MUHAMMAD ARSLAN,55\\n', 'MASHAL HAROON,43\\n', 'TAYYAB MUSSADIQ,60\\n', 'ZEESHAN AHMAD,66\\n', 'MEHDI HASSAN,ABSENT\\n', 'HAZIK IRFAN,ABSENT\\n', 'ZAIN UL ABDEEN,72\\n', 'MUHAMMAD ZEESHAN SAQIB,75\\n', 'AIMAL KHAN,64\\n', 'NASIR KHAN,60\\n', 'TANVEER KHAB,ABSENT\\n', 'UMAR SHAHAZAD,44\\n', 'ALI KHAN,48\\n', 'ABDUL WASIT,ABSENT\\n', 'SHEHRIYAR KHAN,49\\n', 'DANYAL KHATTAK,ABSENT\\n', 'MUHAMMAD SALEH HAIDER,69\\n', 'KALEEM ULLAH SHINWARI,61\\n', 'SAMIUD DIN,ABSENT\\n', 'TAHIR AHMAD,ABSENT\\n', 'MUHAMMAD ILYAS,44\\n', 'IRFAN ALI,41\\n', 'ABDUL LATIF,38\\n', 'SOHAIL AHMAD,68\\n', 'SAAD AKBAR,60\\n', 'MUHAMMAD USMAN,41\\n', 'ASHFAQ AHMAD,ABSENT\\n', 'MUHAMMAD ASIF,49\\n', 'BILAL SAEED,ABSENT\\n', 'QASIM ALI SHAH,44\\n', 'ARIF ULLAH,ABSENT\\n', 'WASEEM AFRIDI,63\\n', 'MUHAMMAD USMAN,69\\n', 'IZHAAR AZEEM,ABSENT\\n', 'SHAHAD AHMAD KHAN,64\\n', 'WAHEED AHMAD,ABSENT\\n', 'MUZAMMIL MAHBOOB,62\\n', 'SYED ATIF SHAH,65\\n', 'SARDAR NOMAN JAVED,ABSENT\\n', 'SHAHEED AHMED,ABSENT\\n', 'ABDUL BASIT,55\\n', 'MUHAMMAD HAROON,62\\n', 'AHMED MAHMOOD,52\\n', 'ASAD SHEHZAD,ABSENT\\n', 'MUHAMMAD SARFARAZ,63\\n', 'NASEER ULLAH,63\\n', 'UBAID ALI SHAH,66\\n', 'ABDUL WAHID,ABSENT\\n', 'AMIR RAEES ALI,67\\n', 'MUHAMMAD FAISAL,64\\n', 'MUHAMMAD WAQAR,35\\n', 'MUHAMMAD YASIR,72\\n', 'ADNAN NAWAB,47\\n', 'ABDUL BASIT,62\\n', 'SHAHAB UD DIN,ABSENT\\n', 'MUHAMMAD ISHAQ,48\\n', 'BAQIR ALI,67\\n', 'FAHAD KHAN,53\\n', 'AFNAN KARIM,62\\n', 'AAMIR SHEHZAD,ABSENT\\n', 'MUHAMMAD SOHAIL,54\\n', 'AFFAN MEHMOOD,51\\n', 'ABDULLAH,ABSENT\\n', 'ZAIGHAM KHURSHID KHAN,ABSENT\\n', 'ASHFAQ RAHMAT,55\\n', 'ULLAH SAMI,63\\n', 'SOHAIL AHMAD,74\\n', 'MUHAMMAD UMAR FAROOQ KHAN,51\\n', 'JAWAD YOUNUS,ABSENT\\n', 'SADAM SAIF,ABSENT\\n', 'MUHAMMAD NAZEEF PASHA,73\\n', 'MOHTASIM REHMAN,64\\n', 'KALIM-ULLAH,ABSENT\\n', 'ARBAB ABBUL HASSAN,ABSENT\\n', 'KIFAYAT ULLAH,70\\n', 'SAHIBZADA BILAL,ABSENT\\n', 'SULAIMAN KHAN,55\\n', 'FARHAN KAMAL,62\\n', 'AMJID REHMAN,ABSENT\\n', 'NOMAN AHMAD,47\\n', 'AMAN ULLAH KHAN,46\\n', 'MAJID ALI,57\\n', 'SHAKIR ALI KHAN,60\\n', 'MUHAMMAD BILAL,63\\n', 'MUHAMMAD AIZAZ SHAHEEN,ABSENT\\n', 'MUHAMMAD HASNAIN ALI,ABSENT\\n', 'MUHAMMAD UZAIR,ABSENT\\n', 'ABID ULLAH,ABSENT\\n', 'ABDUL WADOOD,ABSENT\\n', 'RAFIQ UN NABI,65\\n', 'MUHAMMAD JUNAID KHAN,50\\n', 'HAMZA ARIF PARACHA,62\\n', 'WAJID ALI,ABSENT\\n', 'MUHAMMAD ARSALAN,55\\n', 'FAWAD KHAN,ABSENT\\n', 'AFTAB ALAM,ABSENT\\n', 'SALMAN AKBAR,ABSENT\\n', 'ASAD ALI,55\\n', 'ASIM MAZHAR MINHAS,ABSENT\\n', 'TARIQ SHAH,51\\n', 'WAQAS SADDIQ,55\\n', 'SHAHAN AHMED,ABSENT\\n', 'EIBAD HASSAN SHAH,58\\n', 'IRFAN ALI KAKAR,68\\n', 'FAWAD AHMAD,47\\n', 'HAROON AHMAD,53\\n', 'SYED HAMZA KHALID,ABSENT\\n', 'AHMAD NANGYAL,61\\n', 'ASHFAQ AHMAD,52\\n', 'ABBAS ALI SHAH,ABSENT\\n', 'MUHAMMAD SADIQ NOOR,ABSENT\\n', 'ABDULLAH AHMAD,ABSENT\\n', 'AHMAD KHAN,54\\n', 'FARHAN MUHAMMAD KHAN,72\\n', 'FARHAD KHAN,41\\n', 'MUHAMMMAD SUDAIS,60\\n', 'MALIK SHUJA UL MULK,ABSENT\\n', 'NAUMAN SHER,48\\n', 'ZAFAR ALI,54\\n', 'YASAR AMIR,47\\n', 'MUBASHAR SHEHERYAR,54\\n', 'SAAD AHMAD,51\\n', 'FARAN TAJ,51\\n', 'SYEDUL ABRAR,71\\n', 'JAVED SHAH,66\\n', 'MUHAMMAD IRTAZA,ABSENT\\n', 'FAREED ULLAH,ABSENT\\n', 'ZIA UL HASSAN MAMOON,68\\n', 'MUHAMMAD UMAIR KHAN,54\\n', 'SHAH RUKH KHAN,72\\n', 'MUHAMMAD AZAM KHAN,53\\n', 'ABDUR RAZIQ,70\\n', 'ARMAN ALI SHAH,ABSENT\\n', 'MUHAMMAD HAMZA KHAN,ABSENT\\n', 'SAQIB AZAM,ABSENT\\n', 'MUHAMMAD QASIM,ABSENT\\n', 'SHAHID ALI KHAN,45\\n', 'TARIQ MEHMOOD,ABSENT\\n', 'ABDULLAH KHAN,36\\n', 'MUHAMMAD SAAD,50\\n', 'NADIR MURTAZA,ABSENT\\n', 'HAMMAD ULLAHKHAN,55\\n', 'SALMAN ALI,ABSENT\\n', 'MIR SHAH HARIS,ABSENT\\n', 'FASIH ULLAH,54\\n', 'AMAN ULLAH,ABSENT\\n', 'TARIF ULLAH,46\\n']\n"
          ]
        }
      ]
    }
  ]
}