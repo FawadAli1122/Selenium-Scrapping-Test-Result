{
  "nbformat": 4,
  "nbformat_minor": 0,
  "metadata": {
    "colab": {
      "name": "PMIU ETEA test result Scrapping.ipynb",
      "provenance": [],
      "collapsed_sections": [],
      "authorship_tag": "ABX9TyMu5YoDLOiib3PfxniXziF/",
      "include_colab_link": true
    },
    "kernelspec": {
      "name": "python3",
      "display_name": "Python 3"
    },
    "language_info": {
      "name": "python"
    }
  },
  "cells": [
    {
      "cell_type": "markdown",
      "metadata": {
        "id": "view-in-github",
        "colab_type": "text"
      },
      "source": [
        "<a href=\"https://colab.research.google.com/github/FawadAli1122/Selenium-Scrapping-Test-Result/blob/main/PMIU_ETEA_test_result_Scrapping.ipynb\" target=\"_parent\"><img src=\"https://colab.research.google.com/assets/colab-badge.svg\" alt=\"Open In Colab\"/></a>"
      ]
    },
    {
      "cell_type": "code",
      "metadata": {
        "id": "ecZk95puZkN3"
      },
      "source": [
        "#https://www.geeksforgeeks.org/check-high-school-result-using-selenium-in-python/"
      ],
      "execution_count": 1,
      "outputs": []
    },
    {
      "cell_type": "code",
      "metadata": {
        "id": "HPTXycKGn-2J"
      },
      "source": [
        "#Install Necessary Package\n",
        "!pip install selenium\n",
        "!apt-get update \n",
        "!apt install chromium-chromedriver"
      ],
      "execution_count": null,
      "outputs": []
    },
    {
      "cell_type": "code",
      "metadata": {
        "id": "EoZdHG5g3U6e"
      },
      "source": [
        "# import required libraries\n",
        "from selenium import webdriver\n",
        "from selenium.webdriver.common.keys import Keys\n",
        "from selenium.webdriver.support.ui import Select\n",
        "from selenium.common.exceptions import NoSuchElementException\n",
        "import csv \n",
        "import time"
      ],
      "execution_count": 7,
      "outputs": []
    },
    {
      "cell_type": "code",
      "metadata": {
        "id": "_L5GkkW71Ryh"
      },
      "source": [
        "# give name of csv file\n",
        "filename = \"result.csv\"\n",
        "\n",
        "# open file in write mode\n",
        "f = open(filename, 'w')\n",
        "\n",
        "# create header\n",
        "header = \"name,status\\n\"\n",
        "  \n",
        "# write into the file\n",
        "f.write(header)\n",
        "\n",
        "# put rollnumber without zero like\n",
        "# your number 0477593 then\n",
        "# put 477593 upto XXXXX.\n",
        "start_roll_no = 2601\n",
        "end_roll_no = 2654\n",
        "\n",
        "#Options for Chrome driver\n",
        "options = webdriver.ChromeOptions()\n",
        "options.add_argument('--headless')\n",
        "options.add_argument('--no-sandbox')\n",
        "options.add_argument('--disable-dev-shm-usage')\n",
        "\n",
        "from selenium.webdriver.common.by import By\n",
        "\n",
        "\n",
        "for i in range(start_roll_no, end_roll_no + 1):\n",
        "      \n",
        "    # exception handling\n",
        "    try:\n",
        "        # create instance of Chrome webdriver\n",
        "        driver = webdriver.Chrome('chromedriver',options=options)\n",
        "\n",
        "        # paste the link upboard website\n",
        "        driver.get(\"https://etea.edu.pk/result\")\n",
        "        time.sleep(2)\n",
        "\n",
        "        # paste the xpath of Result screen \n",
        "        driver.find_element(By.XPATH,'/html/body/div[3]/div[1]/div/div[2]/ul/li[2]/a/ma').click()\n",
        "        #time.sleep(2)\n",
        "        # roll number start with zero then change into string\n",
        "        t= str(i)\n",
        "        time.sleep(2)\n",
        "        # find the element where we have to\n",
        "        # enter the xpath target rollnumber box \n",
        "        # and put rollnumber value who store in t. \n",
        "        driver.find_element(By.XPATH,\"/html/body/div[5]/div/div/div[2]/div/form/div/div[1]/input\").send_keys(t)\n",
        "        time.sleep(2)\n",
        "\n",
        "        # paste the xpath of submit button \n",
        "        driver.find_element(By.XPATH,\"/html/body/div[5]/div/div/div[2]/div/form/div/div[2]/button\").click()\n",
        "        time.sleep(2)\n",
        "        # name of student's x_path copy and get text of element\n",
        "        name=driver.find_element(By.XPATH,'/html/body/div[5]/div/div/div[2]/div/div[4]/table/tbody/tr[1]/td').text\n",
        "        time.sleep(2)\n",
        "        # result of student's x_path copy and get text of element\n",
        "        status=driver.find_element(By.XPATH,'/html/body/div[5]/div/div/div[2]/div/div[4]/table/tbody/tr[6]/td').text\n",
        "        time.sleep(2)\n",
        "        # write in the file\n",
        "        f.write(name + \",\" + status + \"\\n\")\n",
        "        time.sleep(2)\n",
        "        # close the web driver\n",
        "        driver.close()\n",
        "          \n",
        "    # using exception when rollnumber is wrong and\n",
        "    # not show result on this roll number\n",
        "    except NoSuchElementException as exception:\n",
        "        continue\n",
        "  \n",
        "# close and save the file\n",
        "f.close()\n",
        " "
      ],
      "execution_count": 16,
      "outputs": []
    },
    {
      "cell_type": "code",
      "metadata": {
        "colab": {
          "base_uri": "https://localhost:8080/"
        },
        "id": "XsXP8CJ0Yiud",
        "outputId": "ac02e5fe-e8fb-4151-d474-f7ade9d41fd3"
      },
      "source": [
        "with open('result.csv') as file:\n",
        "    content = file.readlines()\n",
        "header = content[:1]\n",
        "rows = content[1:]\n",
        "print(header)\n",
        "print(rows)"
      ],
      "execution_count": 17,
      "outputs": [
        {
          "output_type": "stream",
          "name": "stdout",
          "text": [
            "['name,status\\n']\n",
            "['2601,ABSENT\\n', '2602,ABSENT\\n', '2603,48\\n', '2604,43\\n', '2605,46\\n', '2606,ABSENT\\n', '2607,41\\n', '2608,ABSENT\\n', '2609,64\\n', '2610,63\\n', '2611,ABSENT\\n', '2612,ABSENT\\n', '2613,ABSENT\\n', '2614,70\\n', '2615,ABSENT\\n', '2616,ABSENT\\n', '2617,65\\n', '2618,ABSENT\\n', '2619,58\\n', '2620,ABSENT\\n', '2621,ABSENT\\n', '2622,53\\n', '2623,49\\n', '2624,52\\n', '2625,59\\n', '2626,43\\n', '2627,41\\n', '2628,45\\n', '2629,ABSENT\\n', '2630,45\\n', '2631,ABSENT\\n', '2632,42\\n', '2633,71\\n', '2634,ABSENT\\n', '2635,ABSENT\\n', '2636,ABSENT\\n', '2637,49\\n', '2638,50\\n', '2639,ABSENT\\n', '2640,66\\n', '2641,44\\n', '2642,ABSENT\\n', '2643,ABSENT\\n', '2644,50\\n', '2645,66\\n', '2646,R/L CNIC\\n', '2647,41\\n', '2648,61\\n', '2649,65\\n', '2650,36\\n', '2651,59\\n', '2652,53\\n', '2653,54\\n', '2654,ABSENT\\n']\n"
          ]
        }
      ]
    }
  ]
}